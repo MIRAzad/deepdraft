{
 "cells": [
  {
   "cell_type": "code",
   "execution_count": 1,
   "metadata": {},
   "outputs": [],
   "source": [
    "import requests\n",
    "import json\n",
    "import pandas as pd\n",
    "\n",
    "# API endpoint URL\n",
    "api_url = \"https://api.cogniverse.expentor.com/v1/aiengine/references?query=terms%20and%20conditions\"\n",
    "\n",
    "# Make a GET request to the API\n",
    "response = requests.get(api_url)\n",
    "\n",
    "# Check if the request was successful\n",
    "if response.status_code == 200:\n",
    "    # Parse the JSON response\n",
    "    json_response = response.json()\n",
    "    \n",
    "    # Extract data from the JSON response\n",
    "    references = json_response['response']['ref']\n",
    "\n",
    "    # Create a list to store the data\n",
    "    data = []\n",
    "\n",
    "    for reference in references:\n",
    "        doc_name = reference['doc_name']\n",
    "        ref_para = reference['ref_para']\n",
    "        data.append([doc_name, ref_para])\n",
    "\n",
    "    # Create a Pandas DataFrame from the data\n",
    "    df = pd.DataFrame(data, columns=['doc_name', 'ref_para'])\n",
    "\n",
    "    # Write the DataFrame to an Excel file\n",
    "    df.to_excel('references.xlsx', index=False)\n",
    "else:\n",
    "    print(f\"Failed to retrieve data from the API. Status code: {response.status_code}\")\n"
   ]
  }
 ],
 "metadata": {
  "kernelspec": {
   "display_name": "base",
   "language": "python",
   "name": "python3"
  },
  "language_info": {
   "codemirror_mode": {
    "name": "ipython",
    "version": 3
   },
   "file_extension": ".py",
   "mimetype": "text/x-python",
   "name": "python",
   "nbconvert_exporter": "python",
   "pygments_lexer": "ipython3",
   "version": "3.11.4"
  }
 },
 "nbformat": 4,
 "nbformat_minor": 2
}
